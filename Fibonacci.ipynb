{
  "nbformat": 4,
  "nbformat_minor": 0,
  "metadata": {
    "colab": {
      "provenance": []
    },
    "kernelspec": {
      "name": "python3",
      "display_name": "Python 3"
    },
    "language_info": {
      "name": "python"
    }
  },
  "cells": [
    {
      "cell_type": "code",
      "execution_count": null,
      "metadata": {
        "colab": {
          "base_uri": "https://localhost:8080/"
        },
        "id": "zvlk-bv_g4mo",
        "outputId": "cdffaf55-c494-4625-9ba0-ff3981000a1f"
      },
      "outputs": [
        {
          "output_type": "stream",
          "name": "stdout",
          "text": [
            "Enter a number : 9\n",
            "0 1 1 2 3 5 8 "
          ]
        }
      ],
      "source": [
        "n = int(input(\"Enter a number : \"))\n",
        "x = 0\n",
        "y = 1\n",
        "z = 0\n",
        "while z<=n:\n",
        "     print(z, end = \" \")\n",
        "     x = y\n",
        "     y = z\n",
        "     z = x+y"
      ]
    },
    {
      "cell_type": "markdown",
      "source": [],
      "metadata": {
        "id": "5wTn_FAJn4LS"
      }
    }
  ]
}