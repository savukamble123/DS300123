{
  "nbformat": 4,
  "nbformat_minor": 0,
  "metadata": {
    "colab": {
      "provenance": []
    },
    "kernelspec": {
      "name": "python3",
      "display_name": "Python 3"
    },
    "language_info": {
      "name": "python"
    }
  },
  "cells": [
    {
      "cell_type": "code",
      "execution_count": null,
      "metadata": {
        "colab": {
          "base_uri": "https://localhost:8080/"
        },
        "id": "_G_QCdac4WUl",
        "outputId": "2b45590b-0851-4c68-e0e8-a4198fb0cee2"
      },
      "outputs": [
        {
          "output_type": "stream",
          "name": "stdout",
          "text": [
            "Null vector: [0. 0. 0. 0. 1. 0. 0. 0. 0. 0.]\n"
          ]
        }
      ],
      "source": [
        "import numpy as np\n",
        "\n",
        "# 1. Create a null vector of size 10 but the fifth value which is 1.\n",
        "null_vector = np.zeros(10)\n",
        "null_vector[4] = 1\n",
        "print(\"Null vector:\", null_vector)"
      ]
    },
    {
      "cell_type": "code",
      "source": [
        "# 2. Create a vector with values ranging from 10 to 49.\n",
        "vector_range = np.arange(10, 50)\n",
        "print(\"Vector with values ranging from 10 to 49:\", vector_range)"
      ],
      "metadata": {
        "colab": {
          "base_uri": "https://localhost:8080/"
        },
        "id": "NoTpl-dz4e50",
        "outputId": "9a4b6b33-de88-4176-9a60-0a9b27eb2bc2"
      },
      "execution_count": null,
      "outputs": [
        {
          "output_type": "stream",
          "name": "stdout",
          "text": [
            "Vector with values ranging from 10 to 49: [10 11 12 13 14 15 16 17 18 19 20 21 22 23 24 25 26 27 28 29 30 31 32 33\n",
            " 34 35 36 37 38 39 40 41 42 43 44 45 46 47 48 49]\n"
          ]
        }
      ]
    },
    {
      "cell_type": "code",
      "source": [
        "# 3. Create a 3x3 matrix with values ranging from 0 to 8\n",
        "matrix_range = np.arange(9).reshape(3, 3)\n",
        "print(\"3x3 Matrix with values ranging from 0 to 8:\")\n",
        "print(matrix_range)"
      ],
      "metadata": {
        "colab": {
          "base_uri": "https://localhost:8080/"
        },
        "id": "_MsG3cTb4gGd",
        "outputId": "fd0628a7-f845-4bc0-9644-31ca69222566"
      },
      "execution_count": null,
      "outputs": [
        {
          "output_type": "stream",
          "name": "stdout",
          "text": [
            "3x3 Matrix with values ranging from 0 to 8:\n",
            "[[0 1 2]\n",
            " [3 4 5]\n",
            " [6 7 8]]\n"
          ]
        }
      ]
    },
    {
      "cell_type": "code",
      "source": [
        "# 4. Find indices of non-zero elements from [1,2,0,0,4,0]\n",
        "nonzero_indices = np.nonzero([1, 2, 0, 0, 4, 0])\n",
        "print(\"Indices of non-zero elements:\", nonzero_indices)"
      ],
      "metadata": {
        "colab": {
          "base_uri": "https://localhost:8080/"
        },
        "id": "JvTlAirk4kBc",
        "outputId": "900e0779-060c-4948-9dfb-dfa5e63aaa26"
      },
      "execution_count": null,
      "outputs": [
        {
          "output_type": "stream",
          "name": "stdout",
          "text": [
            "Indices of non-zero elements: (array([0, 1, 4]),)\n"
          ]
        }
      ]
    },
    {
      "cell_type": "code",
      "source": [
        "# 5. Create a 10x10 array with random values and find the minimum and maximum values.\n",
        "random_array = np.random.random((10, 10))\n",
        "min_value = np.min(random_array)\n",
        "max_value = np.max(random_array)\n",
        "print(\"Random array:\")\n",
        "print(random_array)\n",
        "print(\"Minimum value:\", min_value)\n",
        "print(\"Maximum value:\", max_value)"
      ],
      "metadata": {
        "colab": {
          "base_uri": "https://localhost:8080/"
        },
        "id": "aEXXE0c-4k4v",
        "outputId": "ce3609a5-5a02-4d20-a59b-68bf96c3ce0f"
      },
      "execution_count": null,
      "outputs": [
        {
          "output_type": "stream",
          "name": "stdout",
          "text": [
            "Random array:\n",
            "[[0.60613738 0.64407509 0.9346369  0.85762301 0.43554195 0.4536381\n",
            "  0.78077537 0.44760582 0.10887687 0.88573482]\n",
            " [0.23558304 0.12995502 0.84837414 0.86846656 0.89500408 0.74057578\n",
            "  0.02014985 0.56068232 0.46658578 0.9058412 ]\n",
            " [0.20235857 0.99712752 0.59308126 0.60996054 0.03960511 0.54085622\n",
            "  0.62503073 0.56961084 0.88084274 0.24145672]\n",
            " [0.69115724 0.02630426 0.61051626 0.14352692 0.55897856 0.2144963\n",
            "  0.28828059 0.73466666 0.47589978 0.58984918]\n",
            " [0.56457245 0.55197955 0.79044457 0.00466433 0.04760716 0.54664142\n",
            "  0.73336784 0.63094641 0.13059796 0.73655785]\n",
            " [0.86023137 0.42473006 0.26072456 0.88442146 0.18654915 0.70411521\n",
            "  0.95301903 0.83032005 0.58626556 0.11831557]\n",
            " [0.50018057 0.0770095  0.34971092 0.37635755 0.64173237 0.32738222\n",
            "  0.27969078 0.62778549 0.8811532  0.67084878]\n",
            " [0.88987251 0.58698137 0.99443733 0.82083317 0.03413169 0.54014438\n",
            "  0.34547916 0.0556538  0.37757249 0.94997854]\n",
            " [0.73676205 0.64557685 0.83253982 0.3862412  0.68826606 0.70236786\n",
            "  0.66104685 0.4836176  0.94462119 0.85886207]\n",
            " [0.46170304 0.44890598 0.02005821 0.42339647 0.96625048 0.97666249\n",
            "  0.2673241  0.01096177 0.03043497 0.33473163]]\n",
            "Minimum value: 0.004664330417164186\n",
            "Maximum value: 0.9971275242565455\n"
          ]
        }
      ]
    },
    {
      "cell_type": "code",
      "source": [
        "# 6. Create a random vector of size 30 and find the mean value.\n",
        "random_vector = np.random.random(30)\n",
        "mean_value = np.mean(random_vector)\n",
        "print(\"Random vector:\", random_vector)\n",
        "print(\"Mean value:\", mean_value)"
      ],
      "metadata": {
        "colab": {
          "base_uri": "https://localhost:8080/"
        },
        "id": "sI3HHxmD4noc",
        "outputId": "928eb392-a753-44e0-f719-0c4c06c0ea14"
      },
      "execution_count": null,
      "outputs": [
        {
          "output_type": "stream",
          "name": "stdout",
          "text": [
            "Random vector: [0.61921476 0.54577828 0.3923337  0.77179173 0.2774989  0.38613557\n",
            " 0.15312119 0.32581657 0.0768642  0.267807   0.19481521 0.68580486\n",
            " 0.40320272 0.30880212 0.85135374 0.22189615 0.97734898 0.32295206\n",
            " 0.68539737 0.51148758 0.20755212 0.57499916 0.61444031 0.76976048\n",
            " 0.59063543 0.09557573 0.29245644 0.23553302 0.10417571 0.71748484]\n",
            "Mean value: 0.4394011971308248\n"
          ]
        }
      ]
    }
  ]
}